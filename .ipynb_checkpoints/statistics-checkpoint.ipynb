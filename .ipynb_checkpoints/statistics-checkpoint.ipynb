{
 "cells": [
  {
   "cell_type": "markdown",
   "metadata": {},
   "source": [
    "<p style='text-align:center; font-weight:bold'>Predicting Car Prices</p>"
   ]
  },
  {
   "cell_type": "markdown",
   "metadata": {},
   "source": [
    "<h4 style='text-align:center'>\n",
    "    Hypothetical Case Scenerio\n",
    "</h4>\n",
    "<p>\n",
    "    Ahmed is a Data Scientist. The current COVID crisis on the taken a toll on Ahmed's finances and Ahmed is currently looking for ways to augument his income. Ahmed a owns Toyota Sedan his father gave him as a graduating gift from college. Ahmed has decided to sell his car to get extra income.  \n",
    "</p>"
   ]
  },
  {
   "cell_type": "markdown",
   "metadata": {},
   "source": [
    "<p style='font-weight:bold; text-align:center'>Data Analysis Methodology</p>\n",
    "Since this project is mainly concerned about the underlying mathematics of linear regression, the data cleaning, preprocessing, and  exploratory data analysis has been seperated into a seperate notebook <a href='https://github.com/paularah/MFC_Linear-Algebra/blob/master/stats.ipynb'>here</a>. Check it out if you're interested in the process the led up to the current conclusions. In summary, the exploratory data analysis process involved: Basic descriptive statistics for the features with continous variables was taken. A Scatter plot was used to examine the strength and direction of the correlation between the each feature as a potential independent variable and the pearson correlation and p.value was taken to validate the results of visualing inspecting the scatter plots.\n",
    "\n",
    "Basic descriptive stats of the features with categorical variables was taken and visualised using a box plot and the various distribution of car prices within the different groups examined. Analysis of variance test was performed and the F-test score i.e (variation betwen the sample group means divided by the variation within the sample group) and the p-value(i.e confidence degree/statistical significance) was taken \n"
   ]
  },
  {
   "cell_type": "markdown",
   "metadata": {},
   "source": [
    "On analysing the data, the features below have shown the have an impact on the prices of car. So we will feeding our model with these features. \n",
    "<ul>\n",
    "    <li>Length</li>\n",
    "    <li>Width</li>\n",
    "    <li>Curb-weight</li>\n",
    "    <li>Engine-size</li>\n",
    "    <li>Horsepower</li>\n",
    "    <li>City-mpg</li>\n",
    "    <li>Highway mpg (converted to kilometres)</li>\n",
    "    <li>Wheel-base</li>\n",
    "    <li>Bore</li>\n",
    "    <li>Drive-wheels (encoded and labelled as 4wd, rwd, fwd)</li>\n",
    "</ul>\n",
    "<h3 style='text-align:center'>Problem Statement</h3>\n",
    "<p>Ahmed has been able to lay hands on the owner's manual of his car and historical data on car prices sold in his region over the years. From historical precedence, what is ideal amoout Ahmed should sell his car? Ahmed has decided he needs a certain amount of money and would not sell his car below that amount. Has price Ahmed fixed for his car a fair? Ahmed is trying to fix a price for his car that is at the upper precentile of market price for similar cars to his ensuring that he gains the optimum profit from his sale.</p>"
   ]
  },
  {
   "cell_type": "code",
   "execution_count": 1,
   "metadata": {},
   "outputs": [],
   "source": [
    "import pandas as pd \n",
    "import numpy as np\n",
    "import matplotlib.pyplot as plt\n",
    "import seaborn as sns\n",
    "path = '/home/arah/Documents/MFC_Linear-Algebra/clean_auto.csv'\n",
    "tf = pd.read_csv(path)"
   ]
  },
  {
   "cell_type": "code",
   "execution_count": 2,
   "metadata": {},
   "outputs": [],
   "source": [
    "#extracting only the features we need from the data\n",
    "df = tf[['length', 'width', 'curb-weight', 'engine-size', 'horsepower',  'highway-mpg', 'wheel-base', 'bore', '4wd', 'rwd', 'fwd', 'price']]"
   ]
  },
  {
   "cell_type": "markdown",
   "metadata": {},
   "source": [
    "<h4>Using Multiple Linear Regression</h4>\n",
    "<p>Linear regressions help us infer linear relationships between variables. The allow us to ask how one or more\n",
    "independent variables can be used to linearly explain or predict a dependent variable.(Arun, 2020). And this case, multiple linear regression explains the linear relationship between the independent variable(s) and the dependent variable</p>\n",
    "<p>Given the set independent variables, $[length, width, curb.weight, engine.size, horsepower,  highway.mpg, wheel.base, bore, 4wd, rwd, fwd]$ the linear  regression model explians the linear relationship between each independent variable and the price </p>\n",
    "$$\n",
    "Price = x_0 + x_1length + x_2width + x_3curb.weight + x_4engine.size + x_5horsepower + x_6highway/km...\n",
    "$$\n",
    "<p>where $x_0$ is the intercept and and $x_1 ...$ is the coefficients for the respective independent variables</p>"
   ]
  },
  {
   "cell_type": "code",
   "execution_count": 3,
   "metadata": {},
   "outputs": [],
   "source": [
    "from sklearn.model_selection import train_test_split\n",
    "from sklearn.linear_model import LinearRegression\n",
    "from sklearn.metrics import mean_squared_error as mse\n",
    "\n",
    "\n",
    "lr=LinearRegression()\n",
    "y_data = df['price']\n",
    "x_data=df.drop('price',axis=1)\n",
    "x_train, x_test, y_train, y_test = train_test_split(x_data, y_data, test_size=0.15, random_state=1)\n",
    "lr.fit(x_train, y_train)\n",
    "yhat_train = lr.predict(x_train)\n",
    "yhat_test = lr.predict(x_test)"
   ]
  },
  {
   "cell_type": "markdown",
   "metadata": {},
   "source": [
    "<h3>Mathematical Intuition Behind Linear Regression</h3>\n"
   ]
  },
  {
   "cell_type": "markdown",
   "metadata": {},
   "source": [
    "And in this case of Ahmed's model, the coefficients for the repspective independent variable. An decrese/increase in one unit of the independent variable will result in one unit of the respective coefficients. "
   ]
  },
  {
   "cell_type": "code",
   "execution_count": 4,
   "metadata": {},
   "outputs": [
    {
     "data": {
      "text/plain": [
       "array([ 5.39764575e+03,  5.64896691e+04, -1.29593740e+00,  9.65811167e+01,\n",
       "        3.61009863e+01,  2.73498603e+02, -4.08300930e+01, -1.12842533e+03,\n",
       "       -3.57677541e+02,  1.81362871e+03, -1.45595117e+03])"
      ]
     },
     "execution_count": 4,
     "metadata": {},
     "output_type": "execute_result"
    }
   ],
   "source": [
    "lr.coef_"
   ]
  },
  {
   "cell_type": "markdown",
   "metadata": {},
   "source": [
    "and the intercept for the equation\n"
   ]
  },
  {
   "cell_type": "code",
   "execution_count": 5,
   "metadata": {},
   "outputs": [
    {
     "data": {
      "text/plain": [
       "-49571.46648071201"
      ]
     },
     "execution_count": 5,
     "metadata": {},
     "output_type": "execute_result"
    }
   ],
   "source": [
    "lr.intercept_"
   ]
  },
  {
   "cell_type": "markdown",
   "metadata": {},
   "source": [
    "<p>Ahmed  splits the data into training and testing sets. This is important to understand how to the linear regression model will on perform on out of sample data the that reflects the real world scenario. Using the testing set to evaluate how his linear regression model perfor,ms</p>"
   ]
  },
  {
   "cell_type": "code",
   "execution_count": 6,
   "metadata": {},
   "outputs": [],
   "source": [
    "def dist_plot(x:any, y:any, title:str):\n",
    "    width = 12\n",
    "    height = 10\n",
    "    plt.figure(figsize=(width, height))\n",
    "    ax1 = sns.distplot(x, hist=False, color=\"r\", label=\"Actual Value\")\n",
    "    sns.distplot(y, hist=False, color=\"b\", label=\"Predicted Values\" , ax=ax1)\n",
    "    plt.title(title)\n",
    "    plt.xlabel('Price')\n",
    "    plt.ylabel(title)\n",
    "    plt.show()\n",
    "    plt.close()"
   ]
  },
  {
   "cell_type": "code",
   "execution_count": null,
   "metadata": {},
   "outputs": [],
   "source": [
    "dist_plot(y_train, yhat_train, 'Actual vs Predicted Price [using the traing dataset]')"
   ]
  },
  {
   "cell_type": "code",
   "execution_count": null,
   "metadata": {},
   "outputs": [],
   "source": [
    "dist_plot(y_test, yhat_test, 'Actual Vs Predicted Values (using the test data sample)')"
   ]
  },
  {
   "cell_type": "markdown",
   "metadata": {},
   "source": [
    "<h3 style=''>Limitations of Ahmed's Model</h3>\n",
    "\n",
    "*  The main limitation of Ahmed's linear regression model is that it assumes that the relationship between  the independent variables and dependent variables is linear. But from the EDA, features like the highway miles per galon differ from this assumption. If we \n"
   ]
  },
  {
   "cell_type": "code",
   "execution_count": 14,
   "metadata": {},
   "outputs": [],
   "source": [
    "poly = np.polyfit(df['highway-mpg'], df['price'], 3)\n",
    "fn_poly = np.poly1d(poly)\n",
    "x_n = np.linspace(15, 55, 100)\n",
    "y_n = fn_poly(x_n)\n",
    "plt.plot(df['highway-mpg'], df['price'], '.', x_n, y_n, '-')\n",
    "plt.title('Polynomial Fit with Matplotlib for Price ~ Length')\n",
    "ax = plt.gca()\n",
    "ax.set_facecolor((0.898, 0.898, 0.898))\n",
    "fig = plt.gcf()\n",
    "plt.xlabel('Highway mile per galon')\n",
    "plt.ylabel('Price of Cars')\n",
    "plt.show()"
   ]
  },
  {
   "cell_type": "code",
   "execution_count": null,
   "metadata": {},
   "outputs": [],
   "source": []
  },
  {
   "cell_type": "markdown",
   "metadata": {},
   "source": [
    "\n",
    "* From looking looking at the in smaple distribuiion plot, we can that prices from around 700 dollars to 1400 dollars are not accurately predicted by model and this is further escalated in our out of sample distribution plot. Taking the R-squared error or coefficent of determination, we can determine how close the data is to the fitted regression line. The value of the R-squared is the percentage of variation of the dependent variable that is explained by the linear model."
   ]
  },
  {
   "cell_type": "code",
   "execution_count": null,
   "metadata": {},
   "outputs": [],
   "source": [
    "lr.score(x_train, y_train)"
   ]
  },
  {
   "cell_type": "markdown",
   "metadata": {},
   "source": [
    "<p>The results here show that aproximately 83% of the variation in price is explained by the Ahmed's linear regression model. We can also take the mean squared error i.e the average of the difference between actual value of car prices and the estimated value of car prices to get an ideaof the accuracy of our model</p>"
   ]
  },
  {
   "cell_type": "markdown",
   "metadata": {},
   "source": [
    "Assumptions"
   ]
  }
 ],
 "metadata": {
  "kernelspec": {
   "display_name": "Python 3",
   "language": "python",
   "name": "python3"
  },
  "language_info": {
   "codemirror_mode": {
    "name": "ipython",
    "version": 3
   },
   "file_extension": ".py",
   "mimetype": "text/x-python",
   "name": "python",
   "nbconvert_exporter": "python",
   "pygments_lexer": "ipython3",
   "version": "3.7.6"
  }
 },
 "nbformat": 4,
 "nbformat_minor": 4
}
