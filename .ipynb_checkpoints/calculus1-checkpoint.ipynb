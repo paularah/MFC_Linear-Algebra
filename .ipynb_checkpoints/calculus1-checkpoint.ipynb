{
 "cells": [
  {
   "cell_type": "markdown",
   "metadata": {},
   "source": [
    "<p style='text-align:center; font-weight:bold; font-size:large'>Calculus Project I</p>\n",
    "<p style='text-align:center; font-weight:bold; font-size:medium'>Drug Concentration in the Human Body <p> \n"
   ]
  },
  {
   "cell_type": "markdown",
   "metadata": {},
   "source": [
    "<h3 style='text-align:center'>Problem Background</h3>\n",
    "Bassey is a octagenrian patient hospitalised at the King Faisal Hospital Kigali. Bassey suffers from Alzheimer's deisease - chronic neurodegenerative disease that usually starts slowly and gradually worsens over time(Wikipedia, 2020). Alzheimer's disease is the cause of 60–70% of cases of dementia. Bassey is selected for a trial of the newly developed experimental drug – imalyloidine. Previous trials of imalyloidine on monkeys with a variety of treatment regimen has shown a 70–90% rate of success in stoping and completely reversing the symptoms of late stage Alzheimer's disease. Imalyloidine has been cleared for clinical trials on humans and doctors are now tasked with finding the right treatment regimen to ensure imalyloidine works effectively.    \n",
    "\n",
    "<h3 style='text-align:center'>Problem Statement and Breakdown</h3>\n",
    "Supposed Bassey is progressively given doses of imalyloidine in a certain concentration of $C$ in a time interval of $T$. As a result of the repeated dosage of imalyloidine, the concentration of imalyloidine in Bassey's body builds up to a saturation level of $S$. We need to find the relationship between $C$, $T$ and, $S$ to help us determine the ideal time interval, concentration of the dosage of imalyloidine to be given to Bassey in other for imalyloidine to work effectively within the clinical constraints.  \n",
    "\n",
    "At the end of this process, doctors need to give Bassey a definitive prescription. For example: \"take 2 tablets $300mg$ of imalyloidine 3 times a day after food\". This prescription should be based on the desirable levels of drug concentration over time and known levels of saturation at which imalyloidine works effectively, metabolism and excretion of the drug in the body."
   ]
  },
  {
   "cell_type": "markdown",
   "metadata": {},
   "source": [
    "In modelling this problem:\n",
    "We're looking for a known fuction $C(T)$ which measures how much the concentration changes after time $T$ of imalyloidine being administered.  \n",
    "\n",
    "The concentration multiplied by the elimination rate equals to the rate of concentration over time\n",
    "$$\n",
    "C.-k = \\frac{dC}{dT}\n",
    "$$\n",
    "where $dC$ is the notation for a small change in concentration $\\Delta{C}$ and $dT$ a small change in time $\\Delta{T}$.\n",
    "<p></p>\n",
    "\n",
    "Since the value of $k$ is always negative, that means the concentration of imalyloidine in Bassey's body is always decreasing. The larger the concentration of imalyloidine administered, the faster it declines. Because a big value for $-k$ results in a even a larger negative change in concentration of imalyloidine \n",
    "$$\n",
    "\\frac{dC}{dT} = -kC\n",
    "$$\n",
    "\n"
   ]
  },
  {
   "cell_type": "markdown",
   "metadata": {},
   "source": [
    "suppose $C_0$ is the initail dose  and $t_0$ is the time at which the dose is given.\n",
    "<p></p>\n",
    "Seperating the variable from the first equation and integrating gives us:\n",
    "<p></p>\n",
    "$$\n",
    "C(t) = C_0e ^{kT}\n",
    "$$\n",
    "<p></p>\n",
    "Suposed after a while $T$, a second dose of the same amount is administered. Then the concentration of imalyloidine in Bassey's blood immediately before the second dosage is represented by the equation below:\n",
    "$$\n",
    "C(T_\\_) = C_0e^{-kT}\n",
    "$$\n",
    "And the concentration of imalyloidine in Bassey's blood immediately after the second dosage is represented by the equation below:\n",
    "$$\n",
    "C = C_0(1 + e^{-kT})\n",
    "$$\n",
    "\n",
    "Combining the two expresions above, we get:\n",
    "$$\n",
    "C(t) = (1 + e^{-kt})e^{-k(t - T)}\n",
    "$$\n",
    "\n",
    "We can push even further and optimise. The function represents the amount of drug at time $t > T$ \n",
    "\n",
    "In general, after the $n^{th}$ administration, the amount of imalyloidine in Bassey's blood is \n",
    "$$\n",
    "C = C(1 + e^{-kT} + ... + e^{-nkT})\n",
    "$$\n",
    "for values of  $n = 1, 2, ...$ \n",
    "\n",
    "Othe above expressive is a geometric sequence. Multiplying and dividing the previous equation by $(1 - e^{-kT}) > 0$ and then simplifying it by using sum formula, we get \n",
    "$$\n",
    "C_n = \\frac{C_0(1 - e^{-(n+1)kT})}{1 - e^{-kT}}\n",
    "$$\n",
    "\n",
    "when $n$ grows, the numerator tends to $C_0$, so that $C_n$ tends to a saturation concentration given by\n",
    "$$\n",
    "S = \\frac{C_0}{1 - e{-kT}}\n",
    "$$\n",
    "Since we know the value of $S$ i.e the minimum concentration at the imalyloidine effectively works, we can then adjust values of $C$ and $T$, so that they are clinically feasible as well as satisfy the equation.  "
   ]
  },
  {
   "cell_type": "markdown",
   "metadata": {},
   "source": [
    "<h3>Assumptions</h3>\n",
    "<ul>\n",
    "    <li>First and foremost, this pharmacokinetic model like most models considers drugs in the body to be in a dynamic state</li>\n",
    "    <li>This model ignores the bioavailabilty of imalyloidine. The bioavailability is the fraction of dose of imalyloidine which has been absorbed and is readily available for use by the body</li> \n",
    "</ul>\n",
    "\n",
    "<h3>Limitations</h3>\n",
    "Some assumptions were made for certain pharmacokinetics steps in moddelling the solution to this problem.\n",
    "<ul>\n",
    "    <li>Variance in individual metabolism wasn't taken into consideration</li>\n",
    "    <li>This models also doesn't account for the absorbtion rate & constant of imalyloidine</li>\n",
    "</ul>\n",
    "\n",
    "<h3>Role of calulus</h3>\n",
    "<ul>\n",
    "    <li>Calculus and Maths in general provides a language and framewok for modelling complex systems like the biological systems</li>\n",
    "    <li>Fitting the curves from the data provided from the pharmacokinetics process can help propose phenomenical models as to why drugs behave they way they do. </li>\n",
    "    <li>Experiments are sometimes difficult to run and in the this case of human trials, they can be risky. We can premptively model experiments of this sort and use the resulting simulations to properly guide the experiment process reducing the chances of failures and mistakes</li>\n",
    "</ul>"
   ]
  },
  {
   "cell_type": "markdown",
   "metadata": {},
   "source": [
    "<h3>Terms</h3>\n",
    "<ul>\n",
    "    <li>\n",
    "        <p><strong>Pharmacokinetics: </strong>Pharmacokinetics is the study of how drugs (or any other substances that can be consumed) are processed within the body.</p>\n",
    "    </li>\n",
    "    <li>\n",
    "        <p><strong>Elimination: </strong>elimination is the sum of the processes of removing an administered drug from the body.</p>\n",
    "    </li>\n",
    "\n",
    "</ul>"
   ]
  },
  {
   "cell_type": "markdown",
   "metadata": {},
   "source": [
    "<h3>References</h3>\n",
    "\n",
    "<ul>\n",
    "    <li>constants., P., 2020. Pharmacokinetics Differential Equations; With Equal Absorption And Elimination Constants.. [online] Mathematics Stack Exchange. Available at: https://math.stackexchange.com/questions/1710840/pharmacokinetics-differential-equations-with-equal-absorption-and-elimination-c [Accessed 6 August 2020].\n",
    "      </li>\n",
    "    <li>Accesspharmacy.mhmedical.com. 2020. Mathematical Fundamentals In Pharmacokinetics | Applied Biopharmaceutics & Pharmacokinetics, 7E | Accesspharmacy | Mcgraw-Hill Medical. [online] Available at: https://accesspharmacy.mhmedical.com/content.aspx?bookid=1592&sectionid=100669085> [Accessed 6 August 2020].</li>\n",
    "    <li>Biology.arizona.edu. 2020. Biomath: Drug Concentrations. [online] Available at: http://www.biology.arizona.edu/biomath/tutorials/applications/Drug.html> [Accessed 6 August 2020].</li>\n",
    "    <li>En.wikipedia.org. 2020. Alzheimer's Disease. [online] Available at: https://en.wikipedia.org/wiki/Alzheimer%27s_disease> [Accessed 6 August 2020].</li>\n",
    "</ul>\n"
   ]
  }
 ],
 "metadata": {
  "kernelspec": {
   "display_name": "Python 3",
   "language": "python",
   "name": "python3"
  },
  "language_info": {
   "codemirror_mode": {
    "name": "ipython",
    "version": 3
   },
   "file_extension": ".py",
   "mimetype": "text/x-python",
   "name": "python",
   "nbconvert_exporter": "python",
   "pygments_lexer": "ipython3",
   "version": "3.7.6"
  }
 },
 "nbformat": 4,
 "nbformat_minor": 4
}
