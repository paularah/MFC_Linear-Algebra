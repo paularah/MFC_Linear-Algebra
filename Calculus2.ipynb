{
 "cells": [
  {
   "cell_type": "markdown",
   "metadata": {},
   "source": [
    "Differential caculus studis the rate at which quantities change. Here we are focused on the dereviatives of functions"
   ]
  },
  {
   "cell_type": "markdown",
   "metadata": {},
   "source": [
    "Find the growth rate after 4 hours of a population of bacteria which doubles every hour. The initial population $N_0$ is 100 bacteria"
   ]
  },
  {
   "cell_type": "markdown",
   "metadata": {},
   "source": [
    "The growth rate is expressed by:\n",
    "$$\n",
    "n = 2^{t}N_0\n",
    "$$\n",
    "\n",
    "We get the derivative of the function, focusing on $2^{t}$ \n",
    "$$\n",
    "n = 2^{t}\n",
    "$$\n",
    "to get the derivative of $n$ we are going to use the exponential formula\n",
    "$$\n",
    "n^{'} = 2^{t}ln2(1) \n",
    "$$\n",
    "\n",
    "\\begin{equation}f'(\\textbf{a}) = \\lim_{h \\to 0} \\frac{f(\\textbf{a} + h) - f(\\textbf{a})}{h} \\end{equation}\n",
    "\n",
    "\\begin{equation}f'(\\textbf{a}) = \\lim_{h \\to 0} \\frac{f(\\textbf{a} + h) - f(\\textbf{a})}{h} \\end{equation}\n",
    "\n",
    "we still need to account for the initial population to be able to get the function for the growth rate\n",
    "\n",
    "$$\n",
    "n' = 2^{t}ln2.N_0\n",
    "$$\n",
    "\n",
    "looking at the problem, we see that the growth doubles after 4hrs. So we substitute the values in. \n",
    "$$\n",
    "n^{4}'(4) = 2^{(4)}ln2.N_0\n",
    "$$\n",
    "\n",
    "this further simplifies as \n",
    "$$\n",
    "n^{'} = 16.ln2.100\n",
    "$$\n",
    "<p></p>\n",
    "$$\n",
    "n^{'}(4) = 1109.03\n",
    "$$"
   ]
  },
  {
   "cell_type": "code",
   "execution_count": null,
   "metadata": {},
   "outputs": [],
   "source": []
  }
 ],
 "metadata": {
  "kernelspec": {
   "display_name": "Python 3",
   "language": "python",
   "name": "python3"
  },
  "language_info": {
   "codemirror_mode": {
    "name": "ipython",
    "version": 3
   },
   "file_extension": ".py",
   "mimetype": "text/x-python",
   "name": "python",
   "nbconvert_exporter": "python",
   "pygments_lexer": "ipython3",
   "version": "3.7.6"
  }
 },
 "nbformat": 4,
 "nbformat_minor": 4
}
